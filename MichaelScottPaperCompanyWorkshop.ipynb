{
 "cells": [
  {
   "cell_type": "markdown",
   "metadata": {},
   "source": [
    "> You know, Apple Computers started in a garage, and we are starting in a condo. So we already have a leg up on Apple. - Pam Beesly\n"
   ]
  },
  {
   "cell_type": "markdown",
   "metadata": {},
   "source": []
  },
  {
   "cell_type": "markdown",
   "metadata": {},
   "source": [
    "Today started as peaceful morning in Scraton Pennsylvania. There has been a long time vacated position ever since Ryan was fired as VP.\n",
    "Everyone from the office just learnt that Charles Miner, previously worked at Saticoy Steel, is joining Dunder Mifflin as new VP.\n",
    "\n",
    "Let's add Charles to Dunder Mifflin's scim group.\n"
   ]
  },
  {
   "cell_type": "code",
   "execution_count": null,
   "metadata": {},
   "outputs": [],
   "source": [
    "# First we need to import the scim client and configuration\n",
    "from sync_app.client import ClientConfiguration, SCIMClient\n",
    "\n",
    "# scim client configuration require server URL and access token.\n",
    "# The server URL is the base URL of the SCIM server.\n",
    "server_url = \"https://api.scim.dev/scim/v2/\"\n",
    "# The access token is the token that is used to authenticate the client to the SCIM server.\n",
    "# You can get the access token from the website\n",
    "# Visit https://scim.dev/apikey/ to get your token\n",
    "auth_token = \"YOUR_ACCESS_CODE\"\n",
    "\n",
    "\n",
    "# Now we have everything we need to create a scim client configuration\n",
    "scim_dev_client_config = ClientConfiguration(\n",
    "    server_url=server_url, auth_token=auth_token\n",
    ")\n",
    "\n",
    "# Now we can create a scim client using the configuration\n",
    "scim_dev_client = SCIMClient(scim_dev_client_config)"
   ]
  },
  {
   "cell_type": "code",
   "execution_count": null,
   "metadata": {},
   "outputs": [],
   "source": [
    "# This block of code will check if the group already exists and delete it if it does\n",
    "from sync_app.client import Filter\n",
    "\n",
    "response = scim_dev_client.get_groups(\n",
    "    filter=Filter(filter='displayName eq \"Dunder Mifflin\"')\n",
    ").to_dict()\n",
    "if response[\"totalResults\"] != 0:\n",
    "    group_id = response[\"Resources\"][0][\"id\"]\n",
    "    scim_dev_client.delete_group(group_id)\n",
    "####\n",
    "\n",
    "from scim_helper import course_setup\n",
    "\n",
    "# You can ignore this part for now, the crouse_setup function create new group and add bunch exist users to the group.\n",
    "dunder_mifflin_group_id, user_ids = course_setup(auth_token)"
   ]
  },
  {
   "cell_type": "code",
   "execution_count": null,
   "metadata": {},
   "outputs": [],
   "source": [
    "# You can take a look at the group_id and user_ids\n",
    "print(\"Group ID is the UUID for the group created by the course_setup helper function\")\n",
    "print(dunder_mifflin_group_id)\n",
    "print(\n",
    "    \"It also create a nice dictionary of user_id to user_name for the users added to the group.\"\n",
    ")\n",
    "user_ids"
   ]
  },
  {
   "cell_type": "markdown",
   "metadata": {},
   "source": [
    "Now the course set up is finished, let's try couple basic scim request!\n"
   ]
  },
  {
   "cell_type": "code",
   "execution_count": null,
   "metadata": {},
   "outputs": [],
   "source": [
    "# The first thing we can do is to get all users from the SCIM server\n",
    "\n",
    "# users =\n",
    "users.to_dict()\n",
    "\n",
    "# This will return ALL the users from server."
   ]
  },
  {
   "cell_type": "code",
   "execution_count": null,
   "metadata": {},
   "outputs": [],
   "source": [
    "# You can also just fetch one user if you have the user's id\n",
    "\n",
    "# user =\n",
    "\n",
    "user.to_dict()"
   ]
  },
  {
   "cell_type": "markdown",
   "metadata": {},
   "source": [
    "By now, you might notice that every response from server will begin with `schemas`.\n",
    "It discribe what the response `meta` looks like.\n",
    "So client to fetch the schemas to have better understand on each meta attribute.\n"
   ]
  },
  {
   "cell_type": "code",
   "execution_count": null,
   "metadata": {},
   "outputs": [],
   "source": [
    "# You can also fetch the schemas from the server\n",
    "# The get_full_schemas make a get request to `/v2/Schema` endpoint\n",
    "full_schema = scim_dev_client.get_full_schemas()\n",
    "full_schema.to_dict()"
   ]
  },
  {
   "cell_type": "code",
   "execution_count": null,
   "metadata": {},
   "outputs": [],
   "source": [
    "# You can also fetch user or group schema from the server\n",
    "# The get_user_schemas make a get request to `/v2/Schemas/urn:ietf:params:scim:schemas:core:2.0:User` endpoint\n",
    "user_schemas = scim_dev_client.get_user_schemas()\n",
    "user_schemas.to_dict()"
   ]
  },
  {
   "cell_type": "code",
   "execution_count": null,
   "metadata": {},
   "outputs": [],
   "source": [
    "# You can also fetch user or group schema from the server\n",
    "# The get_group_schemas make a get request to `/v2/Schemas/urn:ietf:params:scim:schemas:core:2.0:Group` endpoint\n",
    "\n",
    "####\n",
    "# scim.dev group schema currently does not work even with their playground ui requests.\n",
    "####\n",
    "\n",
    "# group_schemas = scim_dev_client.get_group_schemas()\n",
    "# group_schemas.to_dict()"
   ]
  },
  {
   "cell_type": "markdown",
   "metadata": {},
   "source": [
    "Enough of buzy work, now let's create a new user object!\n",
    "\n",
    "Here is what User object required!\n",
    "\n",
    "```\n",
    "    def __init__(\n",
    "        self,\n",
    "        meta: ResourceMeta,\n",
    "        user_id: UUID,\n",
    "        displayName: Optional[str],\n",
    "        active: bool,\n",
    "        userName: str,\n",
    "        name: Optional[Name],\n",
    "        emails: Optional[Iterable[Email]],\n",
    "        groups: Optional[Iterable[ResourceRef]] = None,\n",
    "    ):\n",
    "```\n",
    "\n",
    "We can go over them one by one.\n"
   ]
  },
  {
   "cell_type": "markdown",
   "metadata": {},
   "source": [
    "The first thing we need is some meta data!\n",
    "ResourceMeta does provide create_meta function to create THE meta\n",
    "\n",
    "```\n",
    "def create_meta(resource_type: ResourceType, location: str) -> \"ResourceMeta\":\n",
    "```\n",
    "\n",
    "It requires the resource type and the resource URL\n",
    "There are five different type resource that exist\n",
    "\n",
    "- User\n",
    "- Group\n",
    "- ServiceProviderConfig\n",
    "- ResourceType\n",
    "- Schema\n",
    "\n",
    "Looks like the one we need right now is `User` because duh, we are creating a user object.\n",
    "\n",
    "But what the hack is location?\n",
    "Resource Location is the endpoint where a resource could be re-fetched from the same service prodiver.\n",
    "Since we (Duo) is storing the user, the location would be `https://duo.com/Users/<uuid>`\n"
   ]
  },
  {
   "cell_type": "code",
   "execution_count": null,
   "metadata": {},
   "outputs": [],
   "source": [
    "from sync_app.scim.resource import ResourceMeta\n",
    "\n",
    "# We would also need some uuid\n",
    "from uuid import uuid5, NAMESPACE_X500\n",
    "\n",
    "# uuid5 is used to generate a unique identifier from a name and a namespace\n",
    "# We would use the NAMESPACE_X500 as the namespace\n",
    "# So we could use DN as the name to generate the uuid\n",
    "\n",
    "# uuid =\n",
    "\n",
    "meta = ResourceMeta.create_meta(\n",
    "    # <Resource type>\n",
    "    # <Resource location>\n",
    ")"
   ]
  },
  {
   "cell_type": "markdown",
   "metadata": {},
   "source": [
    "Looking back on User Object\n",
    "\n",
    "```\n",
    "    def __init__(\n",
    "        self,\n",
    "        meta: ResourceMeta,\n",
    "        user_id: UUID,\n",
    "        displayName: Optional[str],\n",
    "        active: bool,\n",
    "        userName: str,\n",
    "        name: Optional[Name],\n",
    "        emails: Optional[Iterable[Email]],\n",
    "        groups: Optional[Iterable[ResourceRef]] = None,\n",
    "    ):\n",
    "```\n",
    "\n",
    "We actually killed two bird with one stone since meta require uuid.\n",
    "`DisplayName` is The name of the User, suitable for display to end-users. The name SHOULD be the full name of the User being described, if known. So it should be like `Charles Miner`\n",
    "`active` is A Boolean value indicating the User's administrative status. So `True` should be it.\n",
    "`userName` is Unique identifier for the User, typically used by the user to directly authenticate to the service provider. Each User MUST include a non-empty userName value. This identifier MUST be unique across the service provider's entire set of Users. REQUIRED. So `cminer` should be fine.\n",
    "\n",
    "`Name` is a werid one, because it contain some sub attribute.\n",
    "`Name` Object looks like this, it's all optional but we fill familyName and givenName easily.\n",
    "\n",
    "```\n",
    "@dataclass\n",
    "class Name:\n",
    "    formatted: Optional[str] = None\n",
    "    familyName: Optional[str] = None\n",
    "    givenName: Optional[str] = None\n",
    "```\n",
    "\n",
    "`emails` is also a object that contain subattribute.\n",
    "\n",
    "```\n",
    "@dataclass\n",
    "class Email:\n",
    "    value: Optional[str] = None\n",
    "    type: Optional[str] = None\n",
    "    primary: Optional[bool] = None\n",
    "    display: Optional[str] = None\n",
    "```\n",
    "\n",
    "`value` is email address\n",
    "`type` is for work/home/other/etc\n",
    "`primary` is if the email is the preferred one.\n",
    "`display` is the the thing make least sense, so we will skip that for now.\n",
    "\n",
    "`groups` is use set the group for the user, for now we are going to use the exist Dunder Mifflin Group!\n"
   ]
  },
  {
   "cell_type": "code",
   "execution_count": null,
   "metadata": {},
   "outputs": [],
   "source": [
    "# Now let's create a user!\n",
    "from sync_app.scim.user import User, Name, Email\n",
    "from sync_app.scim.resource import ResourceRef\n",
    "\n",
    "cminer = User(\n",
    "    # meta\n",
    "    # user_id\n",
    "    # displayName\n",
    "    # active\n",
    "    # userName\n",
    "    # name\n",
    "    # emails\n",
    "    # groups\n",
    ")\n",
    "\n",
    "# Now we can try to push the user to the server!\n",
    "response = scim_dev_client.create_user(cminer)\n",
    "response.to_dict()"
   ]
  },
  {
   "cell_type": "code",
   "execution_count": null,
   "metadata": {},
   "outputs": [],
   "source": [
    "# We should also keep track of the newly created user to our user_ids dictionary\n",
    "user_ids[\"Charles.Miner\"] = response.to_dict()[\"id\"]\n",
    "user_ids"
   ]
  },
  {
   "cell_type": "markdown",
   "metadata": {},
   "source": [
    "### Optional scim step\n",
    "\n",
    "Before we sent user object to scim SCP, we could validate it against the user schemas that we receieved earlier.\n",
    "This is optinal to the course.\n"
   ]
  },
  {
   "cell_type": "code",
   "execution_count": null,
   "metadata": {},
   "outputs": [],
   "source": [
    "from jsonschema import validate\n",
    "\n",
    "validate(cminer.to_dict(), user_schemas.to_dict())\n",
    "# This should return None if the user is valid"
   ]
  },
  {
   "cell_type": "markdown",
   "metadata": {},
   "source": [
    "Now we have Charles in the system, Charles the new VP finally able to access his new laptop and all customer information for the first day!\n"
   ]
  },
  {
   "cell_type": "markdown",
   "metadata": {},
   "source": [
    "Even Micheal had good time with Charles in the beginning, the tension between Micheal and Charles is so thich you can pratical cut it with a butter knife.\n",
    "\n",
    "This result Micheal put his 2 week notice by the end of day. Micheal approved multiple Dunder Mifflin employee to join Micheal to his new paper company!\n"
   ]
  },
  {
   "cell_type": "markdown",
   "metadata": {},
   "source": [
    "After goofy around for 2 week, the final day at Dunder Mifflin for Micheal has arrived. There is no one willing to quit the job at Dunder Mifflin and join Micheal for his new adventure.\n"
   ]
  },
  {
   "cell_type": "markdown",
   "metadata": {},
   "source": [
    "Let's remove Micheal from the Dunder Mifflin group, so he can no long access inportant company secrets.\n"
   ]
  },
  {
   "cell_type": "markdown",
   "metadata": {},
   "source": [
    "#### SCIM knowledge: _When you ask scim server to delete an user, scim server might not actual delete the user. But will not return the user information when you ask about the user again. So it might be a better idea to soft delete an user to make it inactive._\n"
   ]
  },
  {
   "cell_type": "code",
   "execution_count": null,
   "metadata": {},
   "outputs": [],
   "source": [
    "# Lets first deactive Micheal's status\n",
    "from sync_app.scim.patchop import PatchOp, Operation\n",
    "\n",
    "deactive_patch_op = PatchOp(\n",
    "    # <operation>\n",
    ")\n",
    "\n",
    "response = scim_dev_client.update_user(\n",
    "    # <user_id>\n",
    "    # <patch_op>\n",
    ")\n",
    "response.to_dict()"
   ]
  },
  {
   "cell_type": "code",
   "execution_count": null,
   "metadata": {},
   "outputs": [],
   "source": [
    "# Let's try to remove Micheal from the dunder mifflin group"
   ]
  },
  {
   "cell_type": "markdown",
   "metadata": {},
   "source": [
    "> Confidence-- it's the food of the wise man, but the liquor of the fool. --Vikram\n"
   ]
  },
  {
   "cell_type": "markdown",
   "metadata": {},
   "source": [
    "Oh no, Micheal Scott Paper Company just started.\n",
    "We need to do some scim work to keep the scim record up to dates.\n",
    "Here are list of things we need to.\n",
    "\n",
    "- Create a new group called Micheal Scott Paper Company.\n",
    "- Add Micheal, Pam, Ryan to the new Group.\n",
    "- Deactive Pam from Dunder Mifflin group since she is no long working for Dunder Mifflin.\n"
   ]
  },
  {
   "cell_type": "code",
   "execution_count": null,
   "metadata": {},
   "outputs": [],
   "source": [
    "# Similar to before, this block of code will check if the group already exists and delete it if it does\n",
    "from sync_app.client import Filter\n",
    "\n",
    "response = scim_dev_client.get_groups(\n",
    "    filter=Filter(filter='displayName eq \"Micheal Scott Paper Company\"')\n",
    ").to_dict()\n",
    "if response[\"totalResults\"] != 0:\n",
    "    group_id = response[\"Resources\"][0][\"id\"]\n",
    "    scim_dev_client.delete_group(group_id)\n",
    "####\n",
    "\n",
    "\n",
    "# Create a new group\n",
    "from sync_app.scim.group import Group\n",
    "from sync_app.scim.resource import ResourceMeta\n",
    "from uuid import uuid5, NAMESPACE_X500\n",
    "\n",
    "micheal_scott_paper_company = Group(\n",
    "    # displayName\n",
    "    # group_id\n",
    "    # meta\n",
    ")\n",
    "\n",
    "response = scim_dev_client.create_group(micheal_scott_paper_company)\n",
    "\n",
    "micheal_scott_paper_company_id = response.to_dict()[\"id\"]\n",
    "\n",
    "response.to_dict()"
   ]
  },
  {
   "cell_type": "code",
   "execution_count": null,
   "metadata": {},
   "outputs": [],
   "source": [
    "# Now let's try to do multiple operations in one patch call\n",
    "# Let's create a patch operation to add all three people to the new group\n",
    "from sync_app.scim.patchop import PatchOp, Operation\n",
    "\n",
    "add_three_peope_op = PatchOp(\n",
    "    # <operation>\n",
    ")\n",
    "\n",
    "response = scim_dev_client.update_group(\n",
    "    # <group_id>\n",
    "    # <patch_op>\n",
    ")\n",
    "\n",
    "response.to_dict()"
   ]
  },
  {
   "cell_type": "code",
   "execution_count": null,
   "metadata": {},
   "outputs": [],
   "source": [
    "# Now let's deactive Pam from dunder mifflin group\n",
    "# We have done the similar thing for Micheal Scott before.\n",
    "from sync_app.scim.patchop import PatchOp, Operation\n",
    "\n",
    "remove_patch_op = PatchOp(\n",
    "    # <operation>\n",
    ")\n",
    "\n",
    "response = scim_dev_client.update_group(\n",
    "    # <group_id>\n",
    "    # <patch_op>\n",
    ")\n",
    "\n",
    "response.to_dict()"
   ]
  },
  {
   "cell_type": "markdown",
   "metadata": {},
   "source": [
    "Now we have created the group and populated some users in the group. Let's verify we have done everything correctly.\n",
    "There are mutiple ways we can group information.\n"
   ]
  },
  {
   "cell_type": "code",
   "execution_count": null,
   "metadata": {},
   "outputs": [],
   "source": [
    "# The esiast way to get a group or user is to use the get_user or get_group method along with the id\n",
    "\n",
    "# For example, this is how you get the original Dunder Mifflin group\n",
    "\n",
    "response = scim_dev_client.get_group(micheal_scott_paper_company_id)\n",
    "\n",
    "response.to_dict()"
   ]
  },
  {
   "cell_type": "code",
   "execution_count": null,
   "metadata": {},
   "outputs": [],
   "source": [
    "# But it might be really hard to track the id of the user or group you want to get.\n",
    "# Or you lost the id of the user or group you want to get.\n",
    "# You could also use filter to filter the user or group you want to get.\n",
    "# Now let's try to get the user we just created but with filter.\n",
    "\n",
    "# First we need to create a new filter\n",
    "from sync_app.client import Filter\n",
    "\n",
    "filter = Filter(filter='displayName eq \"Dunder Mifflin\"')\n",
    "response = scim_dev_client.get_groups(filter=filter)\n",
    "\n",
    "response.to_dict()"
   ]
  },
  {
   "cell_type": "code",
   "execution_count": null,
   "metadata": {},
   "outputs": [],
   "source": [
    "# The response from get_groups does not contain all the information about the group.\n",
    "# You can add attribute that you tell server on what attribute you want to get.\n",
    "response = scim_dev_client.get_group(\n",
    "    micheal_scott_paper_company_id, attributes=[\"members\"]\n",
    ")\n",
    "response.to_dict()"
   ]
  },
  {
   "cell_type": "code",
   "execution_count": null,
   "metadata": {},
   "outputs": [],
   "source": [
    "# You could also get the same result if you want to use user endpoint instead groups endpoint.\n",
    "\n",
    "from sync_app.client import Filter\n",
    "\n",
    "filter = Filter(filter='groups.value eq \"{}\"'.format(micheal_scott_paper_company_id))\n",
    "response = scim_dev_client.get_users(filter=filter)\n",
    "response.to_dict()"
   ]
  },
  {
   "cell_type": "markdown",
   "metadata": {},
   "source": [
    "#### SCIM knowledge: _You could query user attribute too!_\n",
    "\n",
    "However, the get_user call we have today already return all the attribute we have in those exmaple users. So it will not alter the result, but for more complex users in the real world, you could add attribute to ask server to return more attributes than the default ones.\n"
   ]
  },
  {
   "cell_type": "markdown",
   "metadata": {},
   "source": [
    "Looks like we also should update their emails! Let's do that next.\n"
   ]
  },
  {
   "cell_type": "code",
   "execution_count": null,
   "metadata": {},
   "outputs": [],
   "source": [
    "from sync_app.scim.patchop import PatchOp, Operation\n",
    "\n",
    "update_patch_op = PatchOp(\n",
    "    # <operation>\n",
    ")\n",
    "\n",
    "response = scim_dev_client.update_user(\n",
    "    # <user_id>\n",
    "    # <patch_op>\n",
    ")\n",
    "\n",
    "response.to_dict()"
   ]
  },
  {
   "cell_type": "code",
   "execution_count": null,
   "metadata": {},
   "outputs": [],
   "source": [
    "from sync_app.scim.patchop import PatchOp, Operation\n",
    "\n",
    "update_patch_op = PatchOp(\n",
    "    # <operation>\n",
    ")\n",
    "\n",
    "response = scim_dev_client.update_user(\n",
    "    # <user_id>\n",
    "    # <patch_op>\n",
    ")\n",
    "\n",
    "response.to_dict()"
   ]
  },
  {
   "cell_type": "code",
   "execution_count": null,
   "metadata": {},
   "outputs": [],
   "source": [
    "from sync_app.scim.patchop import PatchOp, Operation\n",
    "\n",
    "update_patch_op = PatchOp(\n",
    "    # <operation>\n",
    ")\n",
    "\n",
    "response = scim_dev_client.update_user(\n",
    "    # <user_id>\n",
    "    # <patch_op>\n",
    ")\n",
    "\n",
    "response.to_dict()"
   ]
  },
  {
   "cell_type": "markdown",
   "metadata": {},
   "source": [
    "#### Extra scim knowledges:\n",
    "\n",
    "- You could also uses `PUT` calls to replace exist user and group. So instead of update one attribute, you will replace entire entry with new user/group. The main benefit for `PUT` call is you could save the same UUID.\n",
    "- ... (more to come)\n"
   ]
  },
  {
   "cell_type": "markdown",
   "metadata": {},
   "source": [
    "WooHoo! Now our job is done! Feel free to try more operition!\n"
   ]
  }
 ],
 "metadata": {
  "kernelspec": {
   "display_name": "Python 3",
   "language": "python",
   "name": "python3"
  },
  "language_info": {
   "codemirror_mode": {
    "name": "ipython",
    "version": 3
   },
   "file_extension": ".py",
   "mimetype": "text/x-python",
   "name": "python",
   "nbconvert_exporter": "python",
   "pygments_lexer": "ipython3",
   "version": "3.11.7"
  }
 },
 "nbformat": 4,
 "nbformat_minor": 2
}
